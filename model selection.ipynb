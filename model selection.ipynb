{
 "cells": [
  {
   "cell_type": "markdown",
   "metadata": {},
   "source": [
    "# Problem: Predicting residential utility costs based on attributes of the house. "
   ]
  },
  {
   "cell_type": "markdown",
   "metadata": {},
   "source": [
    "## Modeling"
   ]
  },
  {
   "cell_type": "code",
   "execution_count": 1,
   "metadata": {},
   "outputs": [],
   "source": [
    "import pandas as pd\n",
    "import numpy as np\n",
    "import seaborn as sns\n",
    "import matplotlib.pyplot as plt\n",
    "from sklearn.model_selection import train_test_split\n",
    "from sklearn.model_selection import GridSearchCV\n",
    "from sklearn.metrics import r2_score, mean_squared_error"
   ]
  },
  {
   "cell_type": "code",
   "execution_count": 2,
   "metadata": {},
   "outputs": [],
   "source": [
    "url = \"data/cleaned.csv\""
   ]
  },
  {
   "cell_type": "code",
   "execution_count": 3,
   "metadata": {},
   "outputs": [],
   "source": [
    "#url = \"https://raw.githubusercontent.com/JuliaZozulia/Predicting_utilitiy_cost/master/data/cleaned.csv\""
   ]
  },
  {
   "cell_type": "code",
   "execution_count": 4,
   "metadata": {},
   "outputs": [],
   "source": [
    "df = pd.read_csv(url, index_col=0)\n",
    "df[df.select_dtypes([\"object\"]).columns] = df.select_dtypes([\"object\"]).apply(\n",
    "    lambda x: x.astype(\"category\")\n",
    ")"
   ]
  },
  {
   "cell_type": "code",
   "execution_count": 5,
   "metadata": {},
   "outputs": [],
   "source": [
    "X = df.drop(columns='total_usage')\n",
    "y = df['total_usage']"
   ]
  },
  {
   "cell_type": "markdown",
   "metadata": {},
   "source": [
    "### StandardScaler, OneHotEncoder"
   ]
  },
  {
   "cell_type": "code",
   "execution_count": 6,
   "metadata": {},
   "outputs": [],
   "source": [
    "from sklearn.compose import ColumnTransformer\n",
    "from sklearn.pipeline import Pipeline\n",
    "from sklearn.preprocessing import StandardScaler, OneHotEncoder"
   ]
  },
  {
   "cell_type": "code",
   "execution_count": 7,
   "metadata": {},
   "outputs": [],
   "source": [
    "def preprocess(df):\n",
    "    numeric_features = df.select_dtypes(exclude=[\"category\"]).columns\n",
    "    numeric_transformer = Pipeline(steps=[(\"scaler\", StandardScaler())])\n",
    "\n",
    "    preprocessor = ColumnTransformer(\n",
    "        transformers=[(\"num\", numeric_transformer, numeric_features)]\n",
    "    )\n",
    "    df.loc[:, numeric_features] = preprocessor.fit_transform(df)\n",
    "\n",
    "    categorical_features = df.select_dtypes(include=[\"category\"]).columns\n",
    "    df = pd.get_dummies(\n",
    "        df, columns=categorical_features, drop_first=True, dummy_na=False\n",
    "    )\n",
    "\n",
    "    X = df.drop(columns=\"total_usage\")\n",
    "    y = df[\"total_usage\"]\n",
    "    return X, y"
   ]
  },
  {
   "cell_type": "code",
   "execution_count": 8,
   "metadata": {},
   "outputs": [
    {
     "name": "stderr",
     "output_type": "stream",
     "text": [
      "C:\\Users\\Aleks\\Anaconda3\\lib\\site-packages\\sklearn\\preprocessing\\data.py:645: DataConversionWarning: Data with input dtype int64, float64 were all converted to float64 by StandardScaler.\n",
      "  return self.partial_fit(X, y)\n",
      "C:\\Users\\Aleks\\Anaconda3\\lib\\site-packages\\sklearn\\base.py:464: DataConversionWarning: Data with input dtype int64, float64 were all converted to float64 by StandardScaler.\n",
      "  return self.fit(X, **fit_params).transform(X)\n"
     ]
    }
   ],
   "source": [
    "X, y = preprocess(df)"
   ]
  },
  {
   "cell_type": "code",
   "execution_count": 9,
   "metadata": {},
   "outputs": [],
   "source": [
    "X_train, X_test, y_train, y_test = train_test_split(X, y, test_size=0.15)"
   ]
  },
  {
   "cell_type": "code",
   "execution_count": 10,
   "metadata": {},
   "outputs": [],
   "source": [
    "r2_scores = pd.DataFrame(\n",
    "    np.nan,\n",
    "    index=[\"ElasticNet\", \"SVM\", \"NN\", \"LightGBM\"],\n",
    "    columns=[\"all\", \"400\", \"300\", \"200\", \"144\"],\n",
    ")\n",
    "\n",
    "MSE_scores = pd.DataFrame(\n",
    "    np.nan,\n",
    "    index=[\"ElasticNet\", \"SVM\", \"NN\", \"LightGBM\"],\n",
    "    columns=[\"all\", \"400\", \"300\", \"200\", \"144\"],\n",
    ")"
   ]
  },
  {
   "cell_type": "code",
   "execution_count": 11,
   "metadata": {},
   "outputs": [],
   "source": [
    "def update_scores(model, name, variable_count, X_test = X_test, y_test= y_test):\n",
    "    y_pred = model.predict(X_test)\n",
    "    r2_scores.at[name, variable_count] = r2_score(y_test, y_pred)\n",
    "    MSE_scores.at[name, variable_count] = mean_squared_error(y_test, y_pred)"
   ]
  },
  {
   "cell_type": "markdown",
   "metadata": {},
   "source": [
    "# Linear Regression"
   ]
  },
  {
   "cell_type": "code",
   "execution_count": 12,
   "metadata": {},
   "outputs": [
    {
     "data": {
      "text/plain": [
       "0.6652101025785556"
      ]
     },
     "execution_count": 12,
     "metadata": {},
     "output_type": "execute_result"
    }
   ],
   "source": [
    "from sklearn.linear_model import ElasticNetCV\n",
    "\n",
    "model = ElasticNetCV(cv=5,  max_iter=10000)\n",
    "model.fit(X_train, y_train)\n",
    "model.score(X_test, y_test)"
   ]
  },
  {
   "cell_type": "code",
   "execution_count": 13,
   "metadata": {},
   "outputs": [
    {
     "data": {
      "text/plain": [
       "0.0020890403570265467"
      ]
     },
     "execution_count": 13,
     "metadata": {},
     "output_type": "execute_result"
    }
   ],
   "source": [
    "model.alpha_"
   ]
  },
  {
   "cell_type": "code",
   "execution_count": 14,
   "metadata": {},
   "outputs": [
    {
     "data": {
      "text/plain": [
       "160"
      ]
     },
     "execution_count": 14,
     "metadata": {},
     "output_type": "execute_result"
    }
   ],
   "source": [
    "len((model.coef_[model.coef_>0]))"
   ]
  },
  {
   "cell_type": "code",
   "execution_count": 15,
   "metadata": {},
   "outputs": [],
   "source": [
    "update_scores(model, 'ElasticNet', '144')"
   ]
  },
  {
   "cell_type": "markdown",
   "metadata": {},
   "source": [
    "# SVM"
   ]
  },
  {
   "cell_type": "code",
   "execution_count": 16,
   "metadata": {},
   "outputs": [
    {
     "data": {
      "text/plain": [
       "GridSearchCV(cv=5, error_score='raise-deprecating',\n",
       "       estimator=SVR(C=1.0, cache_size=200, coef0=0.0, degree=3, epsilon=0.1, gamma='auto',\n",
       "  kernel='rbf', max_iter=-1, shrinking=True, tol=0.001, verbose=False),\n",
       "       fit_params=None, iid='warn', n_jobs=16,\n",
       "       param_grid={'kernel': ['rbf'], 'C': [1, 5, 10]},\n",
       "       pre_dispatch='2*n_jobs', refit=True, return_train_score='warn',\n",
       "       scoring=None, verbose=0)"
      ]
     },
     "execution_count": 16,
     "metadata": {},
     "output_type": "execute_result"
    }
   ],
   "source": [
    "from sklearn.svm import SVR\n",
    "\n",
    "parameters = {\"kernel\": [\"rbf\"], \"C\": [1, 5, 10]}\n",
    "model = SVR(gamma=\"auto\")\n",
    "gm_cv = GridSearchCV(model, parameters, cv=5, n_jobs=16)\n",
    "\n",
    "gm_cv.fit(X_train, y_train)"
   ]
  },
  {
   "cell_type": "code",
   "execution_count": 17,
   "metadata": {},
   "outputs": [
    {
     "data": {
      "text/plain": [
       "0.7115360042197276"
      ]
     },
     "execution_count": 17,
     "metadata": {},
     "output_type": "execute_result"
    }
   ],
   "source": [
    "gm_cv.best_score_ "
   ]
  },
  {
   "cell_type": "code",
   "execution_count": 18,
   "metadata": {},
   "outputs": [
    {
     "data": {
      "text/plain": [
       "{'C': 5, 'kernel': 'rbf'}"
      ]
     },
     "execution_count": 18,
     "metadata": {},
     "output_type": "execute_result"
    }
   ],
   "source": [
    "gm_cv.best_params_"
   ]
  },
  {
   "cell_type": "code",
   "execution_count": 19,
   "metadata": {},
   "outputs": [],
   "source": [
    "update_scores(gm_cv, 'SVM', 'all')"
   ]
  },
  {
   "cell_type": "markdown",
   "metadata": {},
   "source": [
    "# Neural network"
   ]
  },
  {
   "cell_type": "code",
   "execution_count": 20,
   "metadata": {},
   "outputs": [
    {
     "data": {
      "text/plain": [
       "GridSearchCV(cv=5, error_score='raise-deprecating',\n",
       "       estimator=MLPRegressor(activation='relu', alpha=0.0001, batch_size='auto', beta_1=0.9,\n",
       "       beta_2=0.999, early_stopping=True, epsilon=1e-08,\n",
       "       hidden_layer_sizes=(100,), learning_rate='constant',\n",
       "       learning_rate_init=0.001, max_iter=200, momentum=0.9,\n",
       "       n_iter_no_change=10, nesterovs_momentum=True, power_t=0.5,\n",
       "       random_state=None, shuffle=True, solver='adam', tol=0.0001,\n",
       "       validation_fraction=0.2, verbose=False, warm_start=False),\n",
       "       fit_params=None, iid='warn', n_jobs=16,\n",
       "       param_grid={'hidden_layer_sizes': [(128, 128, 16), (256, 64, 16)], 'activation': ['tanh', 'relu', 'logistic'], 'solver': ['sgd', 'adam'], 'alpha': [0, 0.0001], 'max_iter': [5000], 'learning_rate_init': [0.001, 0.01], 'learning_rate': ['adaptive']},\n",
       "       pre_dispatch='2*n_jobs', refit=True, return_train_score='warn',\n",
       "       scoring=None, verbose=0)"
      ]
     },
     "execution_count": 20,
     "metadata": {},
     "output_type": "execute_result"
    }
   ],
   "source": [
    "from sklearn.neural_network import MLPRegressor\n",
    "\n",
    "parameters = {\n",
    "    \"hidden_layer_sizes\": [(128, 128, 16), (256, 64, 16)],\n",
    "    \"activation\": [\"tanh\", \"relu\", \"logistic\"],\n",
    "    \"solver\": [\"sgd\", \"adam\"],\n",
    "    \"alpha\": [0, 0.0001],\n",
    "    \"max_iter\": [5000],\n",
    "    \"learning_rate_init\": [0.001, 0.01],\n",
    "    \"learning_rate\": [\"adaptive\"],\n",
    "}\n",
    "model = MLPRegressor(early_stopping=True, validation_fraction=0.2)\n",
    "gm_cv = GridSearchCV(model, parameters, cv=5, n_jobs=16)\n",
    "\n",
    "gm_cv.fit(X, y)"
   ]
  },
  {
   "cell_type": "code",
   "execution_count": 21,
   "metadata": {},
   "outputs": [
    {
     "data": {
      "text/plain": [
       "0.7040531385725269"
      ]
     },
     "execution_count": 21,
     "metadata": {},
     "output_type": "execute_result"
    }
   ],
   "source": [
    "gm_cv.best_score_ "
   ]
  },
  {
   "cell_type": "code",
   "execution_count": 22,
   "metadata": {},
   "outputs": [
    {
     "data": {
      "text/plain": [
       "{'activation': 'logistic',\n",
       " 'alpha': 0.0001,\n",
       " 'hidden_layer_sizes': (128, 128, 16),\n",
       " 'learning_rate': 'adaptive',\n",
       " 'learning_rate_init': 0.01,\n",
       " 'max_iter': 5000,\n",
       " 'solver': 'sgd'}"
      ]
     },
     "execution_count": 22,
     "metadata": {},
     "output_type": "execute_result"
    }
   ],
   "source": [
    "gm_cv.best_params_"
   ]
  },
  {
   "cell_type": "code",
   "execution_count": 23,
   "metadata": {},
   "outputs": [
    {
     "data": {
      "image/png": "[encoded data removed]",
      "text/plain": [
       "<Figure size 432x288 with 1 Axes>"
      ]
     },
     "metadata": {
      "needs_background": "light"
     },
     "output_type": "display_data"
    }
   ],
   "source": [
    "plt.plot(gm_cv.best_estimator_.validation_scores_)\n",
    "plt.title('Validation scores')\n",
    "plt.show()"
   ]
  },
  {
   "cell_type": "code",
   "execution_count": 24,
   "metadata": {},
   "outputs": [],
   "source": [
    "update_scores(gm_cv, 'NN', 'all')"
   ]
  },
  {
   "cell_type": "markdown",
   "metadata": {},
   "source": [
    "# LightGBM (gradient boosting) "
   ]
  },
  {
   "cell_type": "markdown",
   "metadata": {},
   "source": [
    "### 1. LightGBM with standart scaller and one-hot encoding"
   ]
  },
  {
   "cell_type": "code",
   "execution_count": 27,
   "metadata": {},
   "outputs": [],
   "source": [
    "X_train = X_train.rename(\n",
    "    columns={\n",
    "        \"dishwasher cycle type_Heavy or “pots and pans” cycle\": \"dishwasher cycle type_Heavy or pots and pans cycle\",\n",
    "        \"highest education completed by respondent_Master’s, Professional, or Doctorate degree (for example: MA, MS, MBA, MD, JD, PhD)\": \"highest education completed by respondent_Masters, Professional, or Doctorate degree (for example: MA, MS, MBA, MD, JD, PhD)\",\n",
    "        \"highest education completed by respondent_Some college or Associate’s degree\": \"highest education completed by respondent_Some college or Associates degree\",\n",
    "    }\n",
    ")\n",
    "\n",
    "X_test = X_test.rename(\n",
    "    columns={\n",
    "        \"dishwasher cycle type_Heavy or “pots and pans” cycle\": \"dishwasher cycle type_Heavy or pots and pans cycle\",\n",
    "        \"highest education completed by respondent_Master’s, Professional, or Doctorate degree (for example: MA, MS, MBA, MD, JD, PhD)\": \"highest education completed by respondent_Masters, Professional, or Doctorate degree (for example: MA, MS, MBA, MD, JD, PhD)\",\n",
    "        \"highest education completed by respondent_Some college or Associate’s degree\": \"highest education completed by respondent_Some college or Associates degree\",\n",
    "    }\n",
    ")"
   ]
  },
  {
   "cell_type": "code",
   "execution_count": 28,
   "metadata": {},
   "outputs": [
    {
     "data": {
      "text/plain": [
       "GridSearchCV(cv=5, error_score='raise-deprecating',\n",
       "       estimator=LGBMRegressor(boosting_type='gbdt', class_weight=None, colsample_bytree=1.0,\n",
       "       importance_type='split', learning_rate=0.1, max_depth=-1,\n",
       "       min_child_samples=20, min_child_weight=0.001, min_split_gain=0.0,\n",
       "       n_estimators=40000, n_jobs=-1, num_leaves=31, objective=None,\n",
       "       random_state=None, reg_alpha=0.0, reg_lambda=0.0, silent=True,\n",
       "       subsample=1.0, subsample_for_bin=200000, subsample_freq=0),\n",
       "       fit_params=None, iid='warn', n_jobs=16,\n",
       "       param_grid={'boosting_type': ['gbdt'], 'metric': ['rmse'], 'num_leaves': [20], 'bagging_fraction': [0.2], 'feature_fraction': [0.2], 'learning_rate': [0.001], 'lambda_l2': [2]},\n",
       "       pre_dispatch='2*n_jobs', refit=True, return_train_score='warn',\n",
       "       scoring=None, verbose=0)"
      ]
     },
     "execution_count": 28,
     "metadata": {},
     "output_type": "execute_result"
    }
   ],
   "source": [
    "import lightgbm as lgb\n",
    "from lightgbm import LGBMRegressor\n",
    "\n",
    "parameters = {\n",
    "    \"boosting_type\": [\"gbdt\"],\n",
    "    \"metric\": [\"rmse\"],\n",
    "    \"num_leaves\": [20],\n",
    "    \"bagging_fraction\": [0.2],\n",
    "    \"feature_fraction\": [0.2],\n",
    "    \"learning_rate\": [0.001],\n",
    "    \"lambda_l2\": [2],\n",
    "}\n",
    "\n",
    "\n",
    "model = LGBMRegressor(n_estimators = 40000)\n",
    "gm_cv = GridSearchCV(model, parameters, cv=5, n_jobs=16)\n",
    "\n",
    "gm_cv.fit(X_train, y_train)"
   ]
  },
  {
   "cell_type": "code",
   "execution_count": 29,
   "metadata": {},
   "outputs": [
    {
     "data": {
      "text/plain": [
       "0.7161388839598797"
      ]
     },
     "execution_count": 29,
     "metadata": {},
     "output_type": "execute_result"
    }
   ],
   "source": [
    "y_pred = gm_cv.predict(X_test)\n",
    "r2_score(y_test, y_pred)"
   ]
  },
  {
   "cell_type": "code",
   "execution_count": 30,
   "metadata": {},
   "outputs": [],
   "source": [
    "lgb = gm_cv.best_estimator_.booster_"
   ]
  },
  {
   "cell_type": "markdown",
   "metadata": {},
   "source": [
    "### 2. LightGBM without one-hot encoding"
   ]
  },
  {
   "cell_type": "markdown",
   "metadata": {},
   "source": [
    "According to  LightGBM documentation, it is common to represent categorical features with one-hot encoding, but this approach is suboptimal for tree learners. Particularly for high-cardinality categorical features, a tree built on one-hot features tends to be unbalanced and needs to grow very deep to achieve good accuracy.\n",
    "Let's try to let  LightGBM to deal with categorical values on it's own to see it this will lead to better performance."
   ]
  },
  {
   "cell_type": "code",
   "execution_count": 31,
   "metadata": {},
   "outputs": [],
   "source": [
    "original = pd.read_csv(url, index_col=0)\n",
    "original[original.select_dtypes([\"object\"]).columns] = original.select_dtypes([\"object\"]).apply(\n",
    "    lambda x: x.astype(\"category\")\n",
    ")\n",
    "\n",
    "X_original = original.drop(columns='total_usage')\n",
    "y_original = original['total_usage']\n",
    "\n",
    "X_train_original, X_test_original, y_train_original, y_test_original = train_test_split(\n",
    "    X_original, y_original, test_size=0.15\n",
    ")"
   ]
  },
  {
   "cell_type": "code",
   "execution_count": 42,
   "metadata": {},
   "outputs": [
    {
     "data": {
      "text/plain": [
       "GridSearchCV(cv=5, error_score='raise-deprecating',\n",
       "       estimator=LGBMRegressor(boosting_type='gbdt', class_weight=None, colsample_bytree=1.0,\n",
       "       importance_type='split', learning_rate=0.1, max_depth=-1,\n",
       "       min_child_samples=20, min_child_weight=0.001, min_split_gain=0.0,\n",
       "       n_estimators=40000, n_jobs=-1, num_leaves=31, objective=None,\n",
       "       random_state=None, reg_alpha=0.0, reg_lambda=0.0, silent=True,\n",
       "       subsample=1.0, subsample_for_bin=200000, subsample_freq=0),\n",
       "       fit_params=None, iid='warn', n_jobs=16,\n",
       "       param_grid={'boosting_type': ['gbdt'], 'metric': ['rmse'], 'num_leaves': [20, 50], 'bagging_fraction': [0.2, 0.4], 'feature_fraction': [0.2], 'learning_rate': [0.001], 'lambda_l2': [2, 5]},\n",
       "       pre_dispatch='2*n_jobs', refit=True, return_train_score='warn',\n",
       "       scoring=None, verbose=0)"
      ]
     },
     "execution_count": 42,
     "metadata": {},
     "output_type": "execute_result"
    }
   ],
   "source": [
    "parameters = {\n",
    "    \"boosting_type\": [\"gbdt\"],\n",
    "    \"metric\": [\"rmse\"],\n",
    "    \"num_leaves\": [20, 50],\n",
    "    \"bagging_fraction\": [0.2, 0.4],\n",
    "    \"feature_fraction\": [0.2],\n",
    "    \"learning_rate\": [0.001],\n",
    "    \"lambda_l2\": [2, 5],\n",
    "}\n",
    "\n",
    "\n",
    "model = LGBMRegressor(n_estimators = 40000)\n",
    "gm_cv = GridSearchCV(model, parameters, cv=5, n_jobs=16)\n",
    "\n",
    "gm_cv.fit(X_train_original, y_train_original)"
   ]
  },
  {
   "cell_type": "code",
   "execution_count": 43,
   "metadata": {},
   "outputs": [
    {
     "data": {
      "text/plain": [
       "0.736893364750441"
      ]
     },
     "execution_count": 43,
     "metadata": {},
     "output_type": "execute_result"
    }
   ],
   "source": [
    "y_pred = gm_cv.predict(X_test_original)\n",
    "r2_score(y_test_original, y_pred)"
   ]
  },
  {
   "cell_type": "code",
   "execution_count": 44,
   "metadata": {},
   "outputs": [],
   "source": [
    "update_scores(gm_cv, 'LightGBM', 'all', X_test = X_test_original, y_test = y_test_original)"
   ]
  },
  {
   "cell_type": "code",
   "execution_count": 45,
   "metadata": {},
   "outputs": [
    {
     "data": {
      "text/plain": [
       "{'bagging_fraction': 0.2,\n",
       " 'boosting_type': 'gbdt',\n",
       " 'feature_fraction': 0.2,\n",
       " 'lambda_l2': 2,\n",
       " 'learning_rate': 0.001,\n",
       " 'metric': 'rmse',\n",
       " 'num_leaves': 20}"
      ]
     },
     "execution_count": 45,
     "metadata": {},
     "output_type": "execute_result"
    }
   ],
   "source": [
    "gm_cv.best_params_"
   ]
  },
  {
   "cell_type": "markdown",
   "metadata": {},
   "source": [
    "## Using subset of variables"
   ]
  },
  {
   "cell_type": "markdown",
   "metadata": {},
   "source": [
    "### Choosing subset based on tree feature importance"
   ]
  },
  {
   "cell_type": "code",
   "execution_count": 46,
   "metadata": {},
   "outputs": [],
   "source": [
    "top_features = pd.DataFrame(\n",
    "    {\"feature_name\": lgb.feature_name(), \"importance\": lgb.feature_importance()}\n",
    ")"
   ]
  },
  {
   "cell_type": "code",
   "execution_count": 47,
   "metadata": {},
   "outputs": [],
   "source": [
    "top_features.sort_values(by = 'importance', ascending = False, inplace = True)"
   ]
  },
  {
   "cell_type": "code",
   "execution_count": 48,
   "metadata": {},
   "outputs": [
    {
     "data": {
      "text/html": [
       "<div>\n",
       "<style scoped>\n",
       "    .dataframe tbody tr th:only-of-type {\n",
       "        vertical-align: middle;\n",
       "    }\n",
       "\n",
       "    .dataframe tbody tr th {\n",
       "        vertical-align: top;\n",
       "    }\n",
       "\n",
       "    .dataframe thead th {\n",
       "        text-align: right;\n",
       "    }\n",
       "</style>\n",
       "<table border=\"1\" class=\"dataframe\">\n",
       "  <thead>\n",
       "    <tr style=\"text-align: right;\">\n",
       "      <th></th>\n",
       "      <th>feature_name</th>\n",
       "      <th>importance</th>\n",
       "    </tr>\n",
       "  </thead>\n",
       "  <tbody>\n",
       "    <tr>\n",
       "      <th>59</th>\n",
       "      <td>total_square_footage</td>\n",
       "      <td>18690</td>\n",
       "    </tr>\n",
       "    <tr>\n",
       "      <th>58</th>\n",
       "      <td>total_heated_square_footage</td>\n",
       "      <td>17253</td>\n",
       "    </tr>\n",
       "    <tr>\n",
       "      <th>68</th>\n",
       "      <td>dry_bulb_design_temperature_(f)_expected_to_be...</td>\n",
       "      <td>17093</td>\n",
       "    </tr>\n",
       "    <tr>\n",
       "      <th>66</th>\n",
       "      <td>annual_average_ground_water_temperature_(f)_fo...</td>\n",
       "      <td>16918</td>\n",
       "    </tr>\n",
       "    <tr>\n",
       "      <th>63</th>\n",
       "      <td>heating_degree_days,_30-year_average_1981-2010...</td>\n",
       "      <td>16002</td>\n",
       "    </tr>\n",
       "    <tr>\n",
       "      <th>65</th>\n",
       "      <td>annual_value_for_latent_heat_infiltration_from...</td>\n",
       "      <td>14501</td>\n",
       "    </tr>\n",
       "    <tr>\n",
       "      <th>50</th>\n",
       "      <td>respondent_age</td>\n",
       "      <td>14347</td>\n",
       "    </tr>\n",
       "    <tr>\n",
       "      <th>57</th>\n",
       "      <td>total_cooled_square_footage</td>\n",
       "      <td>13855</td>\n",
       "    </tr>\n",
       "    <tr>\n",
       "      <th>62</th>\n",
       "      <td>cooling_degree_days,_30-year_average_1981-2010...</td>\n",
       "      <td>13816</td>\n",
       "    </tr>\n",
       "    <tr>\n",
       "      <th>60</th>\n",
       "      <td>total_uncooled_square_footage</td>\n",
       "      <td>13661</td>\n",
       "    </tr>\n",
       "  </tbody>\n",
       "</table>\n",
       "</div>"
      ],
      "text/plain": [
       "                                         feature_name  importance\n",
       "59                               total_square_footage       18690\n",
       "58                        total_heated_square_footage       17253\n",
       "68  dry_bulb_design_temperature_(f)_expected_to_be...       17093\n",
       "66  annual_average_ground_water_temperature_(f)_fo...       16918\n",
       "63  heating_degree_days,_30-year_average_1981-2010...       16002\n",
       "65  annual_value_for_latent_heat_infiltration_from...       14501\n",
       "50                                     respondent_age       14347\n",
       "57                        total_cooled_square_footage       13855\n",
       "62  cooling_degree_days,_30-year_average_1981-2010...       13816\n",
       "60                      total_uncooled_square_footage       13661"
      ]
     },
     "execution_count": 48,
     "metadata": {},
     "output_type": "execute_result"
    }
   ],
   "source": [
    "top_features.iloc[:10]"
   ]
  },
  {
   "cell_type": "code",
   "execution_count": 49,
   "metadata": {},
   "outputs": [
    {
     "data": {
      "image/png": "[encoded data removed]",
      "text/plain": [
       "<Figure size 432x288 with 1 Axes>"
      ]
     },
     "metadata": {
      "needs_background": "light"
     },
     "output_type": "display_data"
    }
   ],
   "source": [
    "plt.plot(np.arange(len(top_features)), top_features[\"importance\"])\n",
    "plt.title('Feature importance based on LightGBM')\n",
    "plt.show()"
   ]
  },
  {
   "cell_type": "markdown",
   "metadata": {},
   "source": [
    "### SVR\n",
    "#### Tree-based"
   ]
  },
  {
   "cell_type": "code",
   "execution_count": 50,
   "metadata": {},
   "outputs": [
    {
     "name": "stdout",
     "output_type": "stream",
     "text": [
      "n_featires: 144, best_cv_score: 0.678960921777923\n",
      "n_featires: 200, best_cv_score: 0.6932967626790814\n",
      "n_featires: 300, best_cv_score: 0.7056519407720241\n",
      "n_featires: 400, best_cv_score: 0.70920382669512\n"
     ]
    }
   ],
   "source": [
    "for i in [144, 200, 300, 400]:\n",
    "    parameters = {\"kernel\": [\"rbf\"], \"C\": [5]}\n",
    "    model = SVR(gamma=\"auto\")\n",
    "    gm_cv = GridSearchCV(model, parameters, cv=5, n_jobs=16)\n",
    "    \n",
    "    X_train_top = X_train.iloc[:,top_features.iloc[:i].index]\n",
    "    X_test_top = X_test.iloc[:,top_features.iloc[:i].index]\n",
    "\n",
    "\n",
    "    gm_cv.fit(X_train_top, y_train)\n",
    "\n",
    "    print(\"n_featires: {0}, best_cv_score: {1}\".format(i, gm_cv.best_score_))\n",
    "    \n",
    "    update_scores(gm_cv, \"SVM_tree\", str(i), X_test = X_test_top, y_test = y_test)"
   ]
  },
  {
   "cell_type": "markdown",
   "metadata": {},
   "source": [
    "#### SelectKBest"
   ]
  },
  {
   "cell_type": "code",
   "execution_count": 51,
   "metadata": {},
   "outputs": [
    {
     "name": "stdout",
     "output_type": "stream",
     "text": [
      "n_featires: 144, best_cv_score: 0.6483290523265952\n",
      "n_featires: 200, best_cv_score: 0.6829705752480044\n",
      "n_featires: 300, best_cv_score: 0.6997840209670869\n",
      "n_featires: 400, best_cv_score: 0.7076856165750726\n"
     ]
    }
   ],
   "source": [
    "from sklearn.feature_selection import SelectKBest\n",
    "from sklearn.feature_selection import f_regression, mutual_info_regression\n",
    "\n",
    "for i in [144, 200, 300, 400]:\n",
    "    parameters = {\"kernel\": [\"rbf\"], \"C\": [5]}\n",
    "    model = SVR(gamma=\"auto\")\n",
    "    gm_cv = GridSearchCV(model, parameters, cv=5, n_jobs=16)\n",
    "    \n",
    "    kbest = SelectKBest(mutual_info_regression, k=i)\n",
    "    X_train_top = kbest.fit_transform(X_train, y_train)\n",
    "    X_test_top = kbest.transform(X_test)\n",
    "\n",
    "    gm_cv.fit(X_train_top, y_train)\n",
    "\n",
    "    print(\"n_featires: {0}, best_cv_score: {1}\".format(i, gm_cv.best_score_))\n",
    "    \n",
    "    update_scores(gm_cv, \"SVM_kbest\", str(i), X_test = X_test_top, y_test = y_test)"
   ]
  },
  {
   "cell_type": "markdown",
   "metadata": {},
   "source": [
    "## NN\n",
    "#### Tree-based"
   ]
  },
  {
   "cell_type": "code",
   "execution_count": 52,
   "metadata": {},
   "outputs": [
    {
     "name": "stdout",
     "output_type": "stream",
     "text": [
      "n_featires: 144, best_cv_score: 0.7033685370672561\n",
      "n_featires: 200, best_cv_score: 0.6972406341191597\n",
      "n_featires: 300, best_cv_score: 0.7035781051455562\n",
      "n_featires: 400, best_cv_score: 0.6947499740722096\n"
     ]
    }
   ],
   "source": [
    "for i in [144, 200, 300, 400]:\n",
    "    parameters = {\n",
    "        \"hidden_layer_sizes\": [(128, 128, 16)],\n",
    "        \"activation\": [\"logistic\"],\n",
    "        \"solver\": [\"sgd\"],\n",
    "        \"alpha\": [0.0001],\n",
    "        \"max_iter\": [5000],\n",
    "        \"learning_rate_init\": [0.01],\n",
    "        \"learning_rate\": [\"adaptive\"],\n",
    "    }\n",
    "    model = MLPRegressor(early_stopping=True, validation_fraction=0.2)\n",
    "    gm_cv = GridSearchCV(model, parameters, cv=5, n_jobs=16)\n",
    "\n",
    "    X_train_top = X_train.iloc[:, top_features.iloc[:i].index]\n",
    "    X_test_top = X_test.iloc[:, top_features.iloc[:i].index]\n",
    "\n",
    "    gm_cv.fit(X_train_top, y_train)\n",
    "\n",
    "    print(\"n_featires: {0}, best_cv_score: {1}\".format(i, gm_cv.best_score_))\n",
    "\n",
    "    update_scores(gm_cv, \"NN_tree\", str(i), X_test=X_test_top, y_test=y_test)"
   ]
  },
  {
   "cell_type": "markdown",
   "metadata": {},
   "source": [
    "#### SelectKBest"
   ]
  },
  {
   "cell_type": "code",
   "execution_count": 54,
   "metadata": {},
   "outputs": [
    {
     "name": "stdout",
     "output_type": "stream",
     "text": [
      "n_featires: 144, best_cv_score: 0.6640407504275609\n",
      "n_featires: 200, best_cv_score: 0.6936477505279609\n",
      "n_featires: 300, best_cv_score: 0.698847480706844\n",
      "n_featires: 400, best_cv_score: 0.7000170657105679\n"
     ]
    }
   ],
   "source": [
    "for i in [144, 200, 300, 400]:\n",
    "    parameters = {\n",
    "        \"hidden_layer_sizes\": [(128, 128, 16)],\n",
    "        \"activation\": [\"logistic\"],\n",
    "        \"solver\": [\"sgd\"],\n",
    "        \"alpha\": [0.0001],\n",
    "        \"max_iter\": [5000],\n",
    "        \"learning_rate_init\": [0.01],\n",
    "        \"learning_rate\": [\"adaptive\"],\n",
    "    }\n",
    "    model = MLPRegressor(early_stopping=True, validation_fraction=0.2)\n",
    "    gm_cv = GridSearchCV(model, parameters, cv=5, n_jobs=16)\n",
    "\n",
    "    kbest = SelectKBest(mutual_info_regression, k=i)\n",
    "    X_train_top = kbest.fit_transform(X_train, y_train)\n",
    "    X_test_top = kbest.transform(X_test)\n",
    "\n",
    "    gm_cv.fit(X_train_top, y_train)\n",
    "\n",
    "    print(\"n_featires: {0}, best_cv_score: {1}\".format(i, gm_cv.best_score_))\n",
    "\n",
    "    update_scores(gm_cv, \"NN_kbest\", str(i), X_test=X_test_top, y_test=y_test)"
   ]
  },
  {
   "cell_type": "markdown",
   "metadata": {},
   "source": [
    "Tree based feature importance gives better result. "
   ]
  },
  {
   "cell_type": "markdown",
   "metadata": {},
   "source": [
    "# Results\n",
    "The best overall model (all 254 variables ):  **LightGBM** without one-hot encoding (**$R^2$ 0.76 validation score**)\n",
    "\n",
    "The best model on subset of variables (138 out of 489 one-hot encoded variables):  **ElasticNet** (**$R^2$ 0.72 validation score**)"
   ]
  },
  {
   "cell_type": "code",
   "execution_count": 55,
   "metadata": {},
   "outputs": [],
   "source": [
    "r2_scores_st = pd.DataFrame(r2_scores.stack())\n",
    "r2_scores_st.reset_index(level=[0, 1], inplace=True)\n",
    "r2_scores_st = r2_scores_st.rename(columns={\"level_0\": \"method\", \"level_1\": \"features\", 0: \"value\"})"
   ]
  },
  {
   "cell_type": "code",
   "execution_count": 56,
   "metadata": {},
   "outputs": [],
   "source": [
    "MSE_scores.at['LightGBM', 'all'] = np.nan\n",
    "MSE_scores_st = pd.DataFrame(MSE_scores.stack())\n",
    "MSE_scores_st.reset_index(level=[0, 1], inplace=True)\n",
    "MSE_scores_st = MSE_scores_st.rename(columns={\"level_0\": \"method\", \"level_1\": \"features\", 0: \"value\"})"
   ]
  },
  {
   "cell_type": "code",
   "execution_count": 57,
   "metadata": {},
   "outputs": [
    {
     "data": {
      "image/png": "[encoded data removed]",
      "text/plain": [
       "<Figure size 720x360 with 1 Axes>"
      ]
     },
     "metadata": {
      "needs_background": "light"
     },
     "output_type": "display_data"
    }
   ],
   "source": [
    "plt.figure(figsize=(10, 5))\n",
    "\n",
    "sns.stripplot(\n",
    "    x=\"features\",\n",
    "    y=\"value\",\n",
    "    hue=\"method\",\n",
    "    data=r2_scores_st,\n",
    "    order=[\"all\", \"400\", \"300\", \"200\", \"144\"],\n",
    ")\n",
    "plt.title('Testing r2 scores for different subsets of features')\n",
    "plt.show()"
   ]
  },
  {
   "cell_type": "code",
   "execution_count": 58,
   "metadata": {},
   "outputs": [
    {
     "data": {
      "image/png": "[encoded data removed]",
      "text/plain": [
       "<Figure size 720x360 with 1 Axes>"
      ]
     },
     "metadata": {
      "needs_background": "light"
     },
     "output_type": "display_data"
    }
   ],
   "source": [
    "plt.figure(figsize=(10, 5))\n",
    "\n",
    "sns.stripplot(\n",
    "    x=\"features\",\n",
    "    y=\"value\",\n",
    "    hue=\"method\",\n",
    "    data=MSE_scores_st,\n",
    "    order=[\"all\", \"400\", \"300\", \"200\", \"144\"],\n",
    ")\n",
    "\n",
    "plt.title('Testing MSE scores for different subsets of features')\n",
    "plt.show()"
   ]
  },
  {
   "cell_type": "code",
   "execution_count": null,
   "metadata": {},
   "outputs": [],
   "source": []
  }
 ],
 "metadata": {
  "kernelspec": {
   "display_name": "Python 3",
   "language": "python",
   "name": "python3"
  },
  "language_info": {
   "codemirror_mode": {
    "name": "ipython",
    "version": 3
   },
   "file_extension": ".py",
   "mimetype": "text/x-python",
   "name": "python",
   "nbconvert_exporter": "python",
   "pygments_lexer": "ipython3",
   "version": "3.7.4"
  }
 },
 "nbformat": 4,
 "nbformat_minor": 2
}
