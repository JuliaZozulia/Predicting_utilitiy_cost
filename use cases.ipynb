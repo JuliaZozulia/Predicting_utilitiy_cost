{
 "cells": [
  {
   "cell_type": "code",
   "execution_count": 1,
   "metadata": {},
   "outputs": [],
   "source": [
    "import pandas as pd\n",
    "import numpy as np\n",
    "import seaborn as sns\n",
    "import matplotlib.pyplot as plt\n",
    "from sklearn.metrics import mean_absolute_error, r2_score\n",
    "from sklearn.model_selection import train_test_split\n",
    "import lightgbm as lgb"
   ]
  },
  {
   "cell_type": "code",
   "execution_count": 2,
   "metadata": {},
   "outputs": [],
   "source": [
    "url = \"data/cleaned.csv\""
   ]
  },
  {
   "cell_type": "code",
   "execution_count": 3,
   "metadata": {},
   "outputs": [],
   "source": [
    "df = pd.read_csv(url, index_col=0)\n",
    "df[df.select_dtypes([\"object\"]).columns] = df.select_dtypes([\"object\"]).apply(\n",
    "    lambda x: x.astype(\"category\")\n",
    ")"
   ]
  },
  {
   "cell_type": "code",
   "execution_count": 4,
   "metadata": {},
   "outputs": [],
   "source": [
    "X = df.drop(columns='total_usage')\n",
    "y = df['total_usage']"
   ]
  },
  {
   "cell_type": "code",
   "execution_count": 5,
   "metadata": {},
   "outputs": [],
   "source": [
    "lgb_params = {\n",
    "    \"boosting_type\": \"gbdt\",\n",
    "    \"objective\": \"regression\",\n",
    "    \"metric\": \"rmse\",\n",
    "    #'max_depth': 8,\n",
    "    \"num_leaves\": 20,\n",
    "    \"bagging_fraction\": 0.2,\n",
    "    \"feature_fraction\": 0.2,\n",
    "    \"learning_rate\": 0.001,\n",
    "    \"verbose\": 1,\n",
    "    \"lambda_l2\": 2,\n",
    "}"
   ]
  },
  {
   "cell_type": "code",
   "execution_count": 6,
   "metadata": {},
   "outputs": [],
   "source": [
    "from sklearn.model_selection import cross_validate\n",
    "import lightgbm as lgb\n",
    "from lightgbm import LGBMRegressor\n",
    "\n",
    "X_train, X_test, y_train, y_test = train_test_split(X, y, test_size=0.15)\n",
    "\n",
    "model = LGBMRegressor(\n",
    "    boosting_type=\"gbdt\",\n",
    "    n_estimators = 40000,\n",
    "    reg_lambda=2,\n",
    "    num_leaves=20,\n",
    "    learning_rate=0.001,\n",
    "    subsample=0.2,\n",
    "    colsample_bytree=0.2,\n",
    "    n_jobs = 8,\n",
    ")"
   ]
  },
  {
   "cell_type": "code",
   "execution_count": 7,
   "metadata": {},
   "outputs": [
    {
     "data": {
      "text/plain": [
       "LGBMRegressor(boosting_type='gbdt', class_weight=None, colsample_bytree=0.2,\n",
       "              importance_type='split', learning_rate=0.001, max_depth=-1,\n",
       "              min_child_samples=20, min_child_weight=0.001, min_split_gain=0.0,\n",
       "              n_estimators=40000, n_jobs=8, num_leaves=20, objective=None,\n",
       "              random_state=None, reg_alpha=0.0, reg_lambda=2, silent=True,\n",
       "              subsample=0.2, subsample_for_bin=200000, subsample_freq=0)"
      ]
     },
     "execution_count": 7,
     "metadata": {},
     "output_type": "execute_result"
    }
   ],
   "source": [
    "model.fit(X=X_train, y=y_train)"
   ]
  },
  {
   "cell_type": "code",
   "execution_count": 8,
   "metadata": {},
   "outputs": [
    {
     "data": {
      "text/plain": [
       "0.7382543810387684"
      ]
     },
     "execution_count": 8,
     "metadata": {},
     "output_type": "execute_result"
    }
   ],
   "source": [
    "y_pred = model.predict(X_test)\n",
    "r2_score(y_test, y_pred)"
   ]
  },
  {
   "cell_type": "code",
   "execution_count": 169,
   "metadata": {},
   "outputs": [
    {
     "data": {
      "text/plain": [
       "1763    1676\n",
       "Name: total square footage, dtype: int64"
      ]
     },
     "execution_count": 169,
     "metadata": {},
     "output_type": "execute_result"
    }
   ],
   "source": [
    "house['total square footage'] "
   ]
  },
  {
   "cell_type": "code",
   "execution_count": 161,
   "metadata": {},
   "outputs": [
    {
     "data": {
      "text/html": [
       "<div>\n",
       "<style scoped>\n",
       "    .dataframe tbody tr th:only-of-type {\n",
       "        vertical-align: middle;\n",
       "    }\n",
       "\n",
       "    .dataframe tbody tr th {\n",
       "        vertical-align: top;\n",
       "    }\n",
       "\n",
       "    .dataframe thead th {\n",
       "        text-align: right;\n",
       "    }\n",
       "</style>\n",
       "<table border=\"1\" class=\"dataframe\">\n",
       "  <thead>\n",
       "    <tr style=\"text-align: right;\">\n",
       "      <th></th>\n",
       "      <th>housing unit in census metropolitan statistical area or micropolitan statistical area</th>\n",
       "      <th>census 2010 urban type</th>\n",
       "      <th>type of housing unit</th>\n",
       "      <th>housing unit over a basement</th>\n",
       "      <th>finished basement</th>\n",
       "      <th>attic above the housing unit</th>\n",
       "      <th>finished attic</th>\n",
       "      <th>n. of stories in a single-family home</th>\n",
       "      <th>attached garage</th>\n",
       "      <th>size of attached garage</th>\n",
       "      <th>...</th>\n",
       "      <th>total unheated square footage</th>\n",
       "      <th>cooling degree days, 30-year average 1981-2010, base temperature 65f</th>\n",
       "      <th>building america climate zone</th>\n",
       "      <th>iecc climate code</th>\n",
       "      <th>heating degree days, 30-year average 1981-2010, base temperature 65f</th>\n",
       "      <th>weather &amp; shielding factor for the housing unit</th>\n",
       "      <th>annual value for latent heat infiltration from outside air into the housing unit</th>\n",
       "      <th>annual average ground water temperature (f) for 2015</th>\n",
       "      <th>dry bulb design temperature (f) expected to be exceeded 1% of the time</th>\n",
       "      <th>dry bulb design temperature (f) expected to be exceeded 99% of the time</th>\n",
       "    </tr>\n",
       "  </thead>\n",
       "  <tbody>\n",
       "    <tr>\n",
       "      <td>1763</td>\n",
       "      <td>MICRO</td>\n",
       "      <td>Rural</td>\n",
       "      <td>Single-family detached house</td>\n",
       "      <td>No</td>\n",
       "      <td>No</td>\n",
       "      <td>Yes</td>\n",
       "      <td>Yes</td>\n",
       "      <td>One story</td>\n",
       "      <td>No</td>\n",
       "      <td>Two-car garage</td>\n",
       "      <td>...</td>\n",
       "      <td>642</td>\n",
       "      <td>2213</td>\n",
       "      <td>Hot-Humid</td>\n",
       "      <td>IECC climate zone 3A</td>\n",
       "      <td>2133</td>\n",
       "      <td>0.36</td>\n",
       "      <td>15.75</td>\n",
       "      <td>68.23</td>\n",
       "      <td>91.4</td>\n",
       "      <td>27.8</td>\n",
       "    </tr>\n",
       "  </tbody>\n",
       "</table>\n",
       "<p>1 rows × 254 columns</p>\n",
       "</div>"
      ],
      "text/plain": [
       "     housing unit in census metropolitan statistical area or micropolitan statistical area  \\\n",
       "1763                                              MICRO                                      \n",
       "\n",
       "     census 2010 urban type           type of housing unit  \\\n",
       "1763                  Rural  Single-family detached house    \n",
       "\n",
       "     housing unit over a basement finished basement  \\\n",
       "1763                           No                No   \n",
       "\n",
       "     attic above the housing unit finished attic  \\\n",
       "1763                          Yes            Yes   \n",
       "\n",
       "     n. of stories in a single-family home attached garage  \\\n",
       "1763                             One story              No   \n",
       "\n",
       "     size of attached garage  ... total unheated square footage  \\\n",
       "1763          Two-car garage  ...                           642   \n",
       "\n",
       "     cooling degree days, 30-year average 1981-2010, base temperature 65f  \\\n",
       "1763                                               2213                     \n",
       "\n",
       "     building america climate zone     iecc climate code  \\\n",
       "1763                     Hot-Humid  IECC climate zone 3A   \n",
       "\n",
       "      heating degree days, 30-year average 1981-2010, base temperature 65f  \\\n",
       "1763                                               2133                      \n",
       "\n",
       "      weather & shielding factor for the housing unit  \\\n",
       "1763                                             0.36   \n",
       "\n",
       "      annual value for latent heat infiltration from outside air into the housing unit  \\\n",
       "1763                                              15.75                                  \n",
       "\n",
       "      annual average ground water temperature (f) for 2015  \\\n",
       "1763                                              68.23      \n",
       "\n",
       "     dry bulb design temperature (f) expected to be exceeded 1% of the time  \\\n",
       "1763                                               91.4                       \n",
       "\n",
       "     dry bulb design temperature (f) expected to be exceeded 99% of the time  \n",
       "1763                                               27.8                       \n",
       "\n",
       "[1 rows x 254 columns]"
      ]
     },
     "execution_count": 161,
     "metadata": {},
     "output_type": "execute_result"
    }
   ],
   "source": [
    "house = X_test.iloc[:1]\n",
    "house "
   ]
  },
  {
   "cell_type": "code",
   "execution_count": 164,
   "metadata": {},
   "outputs": [],
   "source": [
    "original = model.predict(house)"
   ]
  },
  {
   "cell_type": "code",
   "execution_count": 165,
   "metadata": {},
   "outputs": [
    {
     "name": "stdout",
     "output_type": "stream",
     "text": [
      "Original consumption: 90945.05 BTU\n",
      "Modified consumption: 90877.24 BTU\n",
      "Absolute savings:     67.81 BTU\n",
      "Percentage savings:   0.07 %\n"
     ]
    }
   ],
   "source": [
    "house_modified = house.copy()\n",
    "house_modified.loc[:, 'attached garage'].replace('No', 'Yes', inplace = True)\n",
    "display_change(original, model.predict(house_modified))"
   ]
  },
  {
   "cell_type": "code",
   "execution_count": 166,
   "metadata": {},
   "outputs": [
    {
     "name": "stdout",
     "output_type": "stream",
     "text": [
      "Original consumption: 90945.05 BTU\n",
      "Modified consumption: 90579.37 BTU\n",
      "Absolute savings:     365.68 BTU\n",
      "Percentage savings:   0.4 %\n"
     ]
    }
   ],
   "source": [
    "house_modified = house.copy()\n",
    "house_modified.loc[:, 'smart thermostat'].replace('No', 'Yes', inplace = True)\n",
    "display_change(original, model.predict(house_modified))"
   ]
  },
  {
   "cell_type": "code",
   "execution_count": 170,
   "metadata": {},
   "outputs": [
    {
     "name": "stdout",
     "output_type": "stream",
     "text": [
      "Original consumption: 90945.05 BTU\n",
      "Modified consumption: 89658.33 BTU\n",
      "Absolute savings:     1286.72 BTU\n",
      "Percentage savings:   1.41 %\n"
     ]
    }
   ],
   "source": [
    "house_modified = house.copy()\n",
    "house_modified.loc[:, 'smart thermostat'].replace('No', 'Yes', inplace = True)\n",
    "house_modified.loc[:, 'level of insulation'].replace('Adequately insulated', 'Well insulated', inplace = True)\n",
    "display_change(original, model.predict(house_modified))"
   ]
  },
  {
   "cell_type": "code",
   "execution_count": 168,
   "metadata": {},
   "outputs": [
    {
     "name": "stdout",
     "output_type": "stream",
     "text": [
      "Original consumption: 90945.05 BTU\n",
      "Modified consumption: 90067.75 BTU\n",
      "Absolute savings:     877.3 BTU\n",
      "Percentage savings:   0.96 %\n"
     ]
    }
   ],
   "source": [
    "house_modified = house.copy()\n",
    "house_modified.loc[:, \"summer temperature when no one is home during the day\"].replace(65, 75, inplace = True)\n",
    "display_change(original, model.predict(house_modified))"
   ]
  },
  {
   "cell_type": "code",
   "execution_count": 107,
   "metadata": {},
   "outputs": [
    {
     "data": {
      "text/plain": [
       "1763    65.0\n",
       "Name: summer temperature when no one is home during the day, dtype: float64"
      ]
     },
     "execution_count": 107,
     "metadata": {},
     "output_type": "execute_result"
    }
   ],
   "source": [
    "house[\"summer temperature when no one is home during the day\"]"
   ]
  },
  {
   "cell_type": "markdown",
   "metadata": {},
   "source": [
    "____________________"
   ]
  },
  {
   "cell_type": "code",
   "execution_count": 156,
   "metadata": {},
   "outputs": [],
   "source": [
    "def display_change(a, b):\n",
    "    a = a[0]\n",
    "    b = b[0]\n",
    "    print(\"Original consumption: {} BTU\".format(round(a, 2)))\n",
    "    print(\"Modified consumption: {} BTU\".format(round(b, 2)))\n",
    "    print(\"Absolute savings:     {} BTU\".format(round((a - b), 2)))\n",
    "    print(\"Percentage savings:   {} %\".format(round((1 - (b / a)) * 100, 2)))"
   ]
  },
  {
   "cell_type": "code",
   "execution_count": 144,
   "metadata": {},
   "outputs": [
    {
     "data": {
      "text/plain": [
       "4514    2553\n",
       "Name: total square footage, dtype: int64"
      ]
     },
     "execution_count": 144,
     "metadata": {},
     "output_type": "execute_result"
    }
   ],
   "source": [
    "house = X_test.iloc[3:4]\n",
    "house['total square footage'] "
   ]
  },
  {
   "cell_type": "code",
   "execution_count": 149,
   "metadata": {},
   "outputs": [],
   "source": [
    "original = model.predict(house)"
   ]
  },
  {
   "cell_type": "code",
   "execution_count": 141,
   "metadata": {},
   "outputs": [
    {
     "data": {
      "text/plain": [
       "4514    20 years or older\n",
       "Name: main water heater age, dtype: category\n",
       "Categories (6, object): [10 to 14 years old, 15 to 19 years old, 2 to 4 years old, 20 years or older, 5 to 9 years old, Less than 2 years old]"
      ]
     },
     "execution_count": 141,
     "metadata": {},
     "output_type": "execute_result"
    }
   ],
   "source": [
    "house['main water heater age'] "
   ]
  },
  {
   "cell_type": "code",
   "execution_count": 154,
   "metadata": {},
   "outputs": [
    {
     "name": "stdout",
     "output_type": "stream",
     "text": [
      "Original cunsumption: 127095.96 BTU\n",
      "Modified cunsumption: 125607.74 BTU\n",
      "Absolute savings:     1488.22 BTU\n",
      "Percantage savings:   1.17 %\n"
     ]
    }
   ],
   "source": [
    "house_modified = house.copy()\n",
    "house_modified.loc[:, 'level of insulation'].replace('Poorly insulated', 'Well insulated', inplace = True)\n",
    "display_change(original, model.predict(house_modified))"
   ]
  },
  {
   "cell_type": "code",
   "execution_count": 157,
   "metadata": {},
   "outputs": [
    {
     "name": "stdout",
     "output_type": "stream",
     "text": [
      "Original consumption: 127095.96 BTU\n",
      "Modified consumption: 125794.58 BTU\n",
      "Absolute savings:     1301.38 BTU\n",
      "Percentage savings:   1.02 %\n"
     ]
    }
   ],
   "source": [
    "house_modified = house.copy()\n",
    "house_modified.loc[:, 'energy star qualified windows'].replace('No', 'Yes', inplace = True)\n",
    "display_change(original, model.predict(house_modified))"
   ]
  },
  {
   "cell_type": "code",
   "execution_count": 158,
   "metadata": {},
   "outputs": [
    {
     "name": "stdout",
     "output_type": "stream",
     "text": [
      "Original consumption: 127095.96 BTU\n",
      "Modified consumption: 118916.53 BTU\n",
      "Absolute savings:     8179.43 BTU\n",
      "Percentage savings:   6.44 %\n"
     ]
    }
   ],
   "source": [
    "house_modified = house.copy()\n",
    "house_modified.loc[:, \"main space heating equipment type\"].replace(\n",
    "    \"Central furnace\", \"Heat pump\", inplace=True\n",
    ")\n",
    "display_change(original, model.predict(house_modified))"
   ]
  },
  {
   "cell_type": "code",
   "execution_count": 159,
   "metadata": {},
   "outputs": [
    {
     "name": "stdout",
     "output_type": "stream",
     "text": [
      "Original consumption: 127095.96 BTU\n",
      "Modified consumption: 125169.56 BTU\n",
      "Absolute savings:     1926.4 BTU\n",
      "Percentage savings:   1.52 %\n"
     ]
    }
   ],
   "source": [
    "house_modified = house.copy()\n",
    "house_modified.loc[:, \"age of main space heating equipment\"].replace(\n",
    "    \"5 to 9 years old\", \"Less than 2 years old\", inplace=True\n",
    ")\n",
    "display_change(original, model.predict(house_modified))"
   ]
  },
  {
   "cell_type": "code",
   "execution_count": 160,
   "metadata": {},
   "outputs": [
    {
     "name": "stdout",
     "output_type": "stream",
     "text": [
      "Original consumption: 127095.96 BTU\n",
      "Modified consumption: 126920.54 BTU\n",
      "Absolute savings:     175.42 BTU\n",
      "Percentage savings:   0.14 %\n"
     ]
    }
   ],
   "source": [
    "house_modified = house.copy()\n",
    "house_modified.loc[:, 'smart thermostat'].replace('No', 'Yes', inplace = True)\n",
    "display_change(original, model.predict(house_modified))"
   ]
  },
  {
   "cell_type": "code",
   "execution_count": null,
   "metadata": {},
   "outputs": [],
   "source": []
  },
  {
   "cell_type": "code",
   "execution_count": 10,
   "metadata": {},
   "outputs": [],
   "source": [
    "top_features = pd.DataFrame(\n",
    "    {\"feature_name\": model.booster_.feature_name(), \"importance\": model.booster_.feature_importance()}\n",
    ")"
   ]
  },
  {
   "cell_type": "code",
   "execution_count": 11,
   "metadata": {},
   "outputs": [],
   "source": [
    "top_features.sort_values(by = 'importance', ascending = False, inplace = True)"
   ]
  },
  {
   "cell_type": "code",
   "execution_count": null,
   "metadata": {},
   "outputs": [],
   "source": [
    "top_features.drop([250, 249, 25], inplace = True)"
   ]
  },
  {
   "cell_type": "code",
   "execution_count": 25,
   "metadata": {},
   "outputs": [
    {
     "name": "stdout",
     "output_type": "stream",
     "text": [
      "n_featires: 20, test: 0.5796714721833047\n",
      "n_featires: 30, test: 0.5967180361516229\n",
      "n_featires: 40, test: 0.7048535347399384\n",
      "n_featires: 45, test: 0.7070353261228399\n",
      "n_featires: 50, test: 0.706174326477181\n",
      "n_featires: 100, test: 0.7324184431306374\n",
      "n_featires: 300, test: 0.7370825468946057\n"
     ]
    }
   ],
   "source": [
    "for i in [20, 30, 40, 45, 50, 100, 300]:\n",
    "    model = LGBMRegressor(\n",
    "        boosting_type=\"gbdt\",\n",
    "        n_estimators=40000,\n",
    "        reg_lambda=2,\n",
    "        num_leaves=20,\n",
    "        learning_rate=0.001,\n",
    "        subsample=0.2,\n",
    "        colsample_bytree=0.2,\n",
    "        n_jobs=8,\n",
    "    )\n",
    "\n",
    "    X_train_top = X_train.iloc[:, top_features.iloc[:i].index]\n",
    "    X_test_top = X_test.iloc[:, top_features.iloc[:i].index]\n",
    "\n",
    "    model.fit(X=X_train_top, y=y_train)\n",
    "    y_pred = model.predict(X_test_top)\n",
    "    r2 = r2_score(y_test, y_pred)\n",
    "\n",
    "    print(\"n_featires: {0}, test: {1}\".format(i, r2))"
   ]
  },
  {
   "cell_type": "code",
   "execution_count": 28,
   "metadata": {},
   "outputs": [
    {
     "name": "stdout",
     "output_type": "stream",
     "text": [
      "242                                 total_square_footage\n",
      "241                          total_heated_square_footage\n",
      "253    dry_bulb_design_temperature_(f)_expected_to_be...\n",
      "251    annual_average_ground_water_temperature_(f)_fo...\n",
      "248    heating_degree_days,_30-year_average_1981-2010...\n",
      "245    cooling_degree_days,_30-year_average_1981-2010...\n",
      "243                        total_uncooled_square_footage\n",
      "179                                       respondent_age\n",
      "240                          total_cooled_square_footage\n",
      "252    dry_bulb_design_temperature_(f)_expected_to_be...\n",
      "61                            frequency_of_microwave_use\n",
      "150    n._of_inside_light_bulbs_turned_on_at_least_4_...\n",
      "114    winter_temperature_when_no_one_is_home_during_...\n",
      "115                          winter_temperature_at_night\n",
      "132    summer_temperature_when_no_one_is_home_during_...\n",
      "85                        frequency_of_clothes_dryer_use\n",
      "52             frequency_of_use_of_cooktop_part_of_stove\n",
      "184                              n._of_household_members\n",
      "11                     range_when_housing_unit_was_built\n",
      "133                          summer_temperature_at_night\n",
      "131    summer_temperature_when_someone_is_home_during...\n",
      "244                        total_unheated_square_footage\n",
      "113    winter_temperature_when_someone_is_home_during...\n",
      "74                           frequency_of_dishwasher_use\n",
      "79                       frequency_of_clothes_washer_use\n",
      "53                frequency_of_use_of_oven_part_of_stove\n",
      "17                                     n._of_other_rooms\n",
      "87                                n._of_televisions_used\n",
      "247                                    iecc_climate_code\n",
      "138                              n._of_ceiling_fans_used\n",
      "14                                        n._of_bedrooms\n",
      "108                              main_space_heating_fuel\n",
      "90            n._of_cable_or_satellite_boxes_without_dvr\n",
      "15                                  n._of_full_bathrooms\n",
      "102                                   n._of_smart_phones\n",
      "22                                         n._of_windows\n",
      "188      annual_gross_household_income_for_the_last_year\n",
      "155         n._of_light_bulbs_installed_outside_the_home\n",
      "187                    n._of_weekdays_someone_is_at_home\n",
      "88                                  size_of_most-used_tv\n",
      "Name: feature_name, dtype: object\n"
     ]
    }
   ],
   "source": [
    "print(top_features.iloc[:40].feature_name)"
   ]
  },
  {
   "cell_type": "code",
   "execution_count": null,
   "metadata": {},
   "outputs": [],
   "source": []
  }
 ],
 "metadata": {
  "kernelspec": {
   "display_name": "Python 3",
   "language": "python",
   "name": "python3"
  },
  "language_info": {
   "codemirror_mode": {
    "name": "ipython",
    "version": 3
   },
   "file_extension": ".py",
   "mimetype": "text/x-python",
   "name": "python",
   "nbconvert_exporter": "python",
   "pygments_lexer": "ipython3",
   "version": "3.7.4"
  }
 },
 "nbformat": 4,
 "nbformat_minor": 2
}
